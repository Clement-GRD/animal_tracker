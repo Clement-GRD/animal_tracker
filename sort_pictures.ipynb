{
 "cells": [
  {
   "cell_type": "code",
   "execution_count": 1,
   "id": "1fd269cb-9745-47b9-b664-fa932325359f",
   "metadata": {},
   "outputs": [],
   "source": [
    "import pandas as pd\n",
    "import os\n",
    "import shutil"
   ]
  },
  {
   "cell_type": "code",
   "execution_count": 2,
   "id": "ec83d88f-c6ee-4cc0-b647-1358ff550d65",
   "metadata": {},
   "outputs": [],
   "source": [
    "df = pd.read_parquet('processed_data/photo_roi_mammals.parquet')"
   ]
  },
  {
   "cell_type": "code",
   "execution_count": 3,
   "id": "59a339b8-e8bf-4560-b90e-4824778e2bb3",
   "metadata": {},
   "outputs": [
    {
     "data": {
      "text/html": [
       "<div>\n",
       "<style scoped>\n",
       "    .dataframe tbody tr th:only-of-type {\n",
       "        vertical-align: middle;\n",
       "    }\n",
       "\n",
       "    .dataframe tbody tr th {\n",
       "        vertical-align: top;\n",
       "    }\n",
       "\n",
       "    .dataframe thead th {\n",
       "        text-align: right;\n",
       "    }\n",
       "</style>\n",
       "<table border=\"1\" class=\"dataframe\">\n",
       "  <thead>\n",
       "    <tr style=\"text-align: right;\">\n",
       "      <th></th>\n",
       "      <th>photo_id</th>\n",
       "      <th>name</th>\n",
       "    </tr>\n",
       "  </thead>\n",
       "  <tbody>\n",
       "    <tr>\n",
       "      <th>0</th>\n",
       "      <td>44643</td>\n",
       "      <td>alces_alces</td>\n",
       "    </tr>\n",
       "    <tr>\n",
       "      <th>1</th>\n",
       "      <td>45208</td>\n",
       "      <td>sciurus_carolinensis</td>\n",
       "    </tr>\n",
       "    <tr>\n",
       "      <th>2</th>\n",
       "      <td>45604</td>\n",
       "      <td>ursus_americanus</td>\n",
       "    </tr>\n",
       "    <tr>\n",
       "      <th>3</th>\n",
       "      <td>50829</td>\n",
       "      <td>homo_sapiens</td>\n",
       "    </tr>\n",
       "    <tr>\n",
       "      <th>4</th>\n",
       "      <td>51055</td>\n",
       "      <td>odocoileus_virginianus</td>\n",
       "    </tr>\n",
       "  </tbody>\n",
       "</table>\n",
       "</div>"
      ],
      "text/plain": [
       "   photo_id                    name\n",
       "0     44643             alces_alces\n",
       "1     45208    sciurus_carolinensis\n",
       "2     45604        ursus_americanus\n",
       "3     50829            homo_sapiens\n",
       "4     51055  odocoileus_virginianus"
      ]
     },
     "execution_count": 3,
     "metadata": {},
     "output_type": "execute_result"
    }
   ],
   "source": [
    "df.head()"
   ]
  },
  {
   "cell_type": "markdown",
   "id": "91833e84-2ba2-4074-8d42-2979f9e7a159",
   "metadata": {},
   "source": [
    "Creates a directory for each class containing more than 500 observations (same criterion used for dowloading pictures)"
   ]
  },
  {
   "cell_type": "code",
   "execution_count": null,
   "id": "ec295e34",
   "metadata": {
    "vscode": {
     "languageId": "plaintext"
    }
   },
   "outputs": [],
   "source": [
    "df['name_number_of_observation'] = df.groupby('name').transform(lambda x: x.count())\n",
    "animal_classes = df.query('name_number_of_observation>500')['name'].unique()"
   ]
  },
  {
   "cell_type": "code",
   "execution_count": 10,
   "id": "85fc4ecb",
   "metadata": {},
   "outputs": [
    {
     "data": {
      "text/plain": [
       "array(['alces_alces', 'sciurus_carolinensis', 'ursus_americanus',\n",
       "       'homo_sapiens', 'odocoileus_virginianus', 'peromyscus_maniculatus',\n",
       "       'erethizon_dorsatum', 'vulpes_vulpes', 'blarina_brevicauda',\n",
       "       'canis_lycaon', 'castor_canadensis', 'neogale_vison',\n",
       "       'canis_latrans', 'lontra_canadensis', 'tamias_striatus',\n",
       "       'canis_familiaris', 'ondatra_zibethicus', 'mephitis_mephitis',\n",
       "       'tamiasciurus_hudsonicus', 'lynx_rufus', 'procyon_lotor',\n",
       "       'felis_catus', 'marmota_monax', 'sylvilagus_floridanus',\n",
       "       'lepus_americanus', 'didelphis_virginiana', 'pekania_pennanti',\n",
       "       'peromyscus', 'canidae', 'urocyon_cinereoargenteus',\n",
       "       'rattus_norvegicus', 'microtus_pennsylvanicus', 'martes_americana',\n",
       "       'carnivora', 'parascalops_breweri', 'eptesicus_fuscus',\n",
       "       'mustela_richardsonii', 'condylura_cristata', 'rodentia',\n",
       "       'sciuridae', 'leporidae', 'placentalia', 'vespertilionidae'],\n",
       "      dtype=object)"
      ]
     },
     "execution_count": 10,
     "metadata": {},
     "output_type": "execute_result"
    }
   ],
   "source": [
    "animal_classes"
   ]
  },
  {
   "cell_type": "code",
   "execution_count": 7,
   "id": "85c3733b-6ec9-4a1c-a98e-d481f036f14e",
   "metadata": {},
   "outputs": [],
   "source": [
    "for animal_class in animal_classes:\n",
    "    new_directory = f'photos/{animal_class}'\n",
    "    os.makedirs(new_directory, exist_ok=True)"
   ]
  },
  {
   "cell_type": "markdown",
   "id": "880b69a1-428a-4213-8d1d-b426d385b207",
   "metadata": {},
   "source": [
    "Moves each picture to the directory it belong to."
   ]
  },
  {
   "cell_type": "code",
   "execution_count": 8,
   "id": "2ca1e2ef-c6ff-42ae-b4aa-2d9086d41b79",
   "metadata": {},
   "outputs": [],
   "source": [
    "dir_path = os.path.relpath('photos')"
   ]
  },
  {
   "cell_type": "code",
   "execution_count": 9,
   "id": "db0a8a16-5a6b-448a-b709-304c24ad6436",
   "metadata": {},
   "outputs": [
    {
     "name": "stdout",
     "output_type": "stream",
     "text": [
      "issue moving .DS_Store\n"
     ]
    }
   ],
   "source": [
    " for filename in os.listdir(dir_path):\n",
    "    source_file = os.path.join(dir_path, filename)\n",
    "    # Check if it's a file (not a subdirectory)\n",
    "    if os.path.isfile(source_file):\n",
    "        # Move the file to the destination directory\n",
    "        try:\n",
    "            shutil.move(source_file,\n",
    "                        os.path.join(dir_path, filename.split('_',1)[1].split('.')[0], filename))\n",
    "        except:\n",
    "            print(f'Issue moving {filename}')\n",
    "            pass"
   ]
  },
  {
   "cell_type": "markdown",
   "id": "6d376740-0c85-4181-b1f0-c55b00475ba4",
   "metadata": {},
   "source": [
    "Successfull moved all files except temporary one"
   ]
  }
 ],
 "metadata": {
  "kernelspec": {
   "display_name": "Python 3 (ipykernel)",
   "language": "python",
   "name": "python3"
  },
  "language_info": {
   "codemirror_mode": {
    "name": "ipython",
    "version": 3
   },
   "file_extension": ".py",
   "mimetype": "text/x-python",
   "name": "python",
   "nbconvert_exporter": "python",
   "pygments_lexer": "ipython3",
   "version": "3.10.12"
  }
 },
 "nbformat": 4,
 "nbformat_minor": 5
}
