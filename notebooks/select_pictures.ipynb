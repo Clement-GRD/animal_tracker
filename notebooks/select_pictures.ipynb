{
 "cells": [
  {
   "cell_type": "markdown",
   "metadata": {},
   "source": [
    "# Pictures Selection"
   ]
  },
  {
   "cell_type": "code",
   "execution_count": null,
   "metadata": {},
   "outputs": [],
   "source": [
    "import polars as pl"
   ]
  },
  {
   "cell_type": "markdown",
   "metadata": {},
   "source": [
    "The three csv files containing observations, photos and taxa metadata are extremely large (few to tens of Gb). They were compressed as `.parquet` files and only relevant columns (see below) were kept in order to minimize hard drive utilization.\n",
    "\n",
    "In this notebook, we will join the three datasets and select a subset corresponding to mammals in a specific. Our end goal will be to have a file containing the file names of the pictures belonging to our subset of interest (downloading the pictures will be the next step), together with the names of the observed species (that will be our targets). As we will only work with a subset of the data, we will use `Polars` instead of `Pandas` to improve computation speed and decrease memory usage."
   ]
  },
  {
   "cell_type": "markdown",
   "metadata": {},
   "source": [
    "# Taxa, observation and photo metadata"
   ]
  },
  {
   "cell_type": "markdown",
   "metadata": {},
   "source": [
    "The `taxa.parquet` file contains information about the different species (`taxon_id`, `ancestry`, and `name`). The `name` will be our targets."
   ]
  },
  {
   "cell_type": "code",
   "execution_count": null,
   "metadata": {},
   "outputs": [
    {
     "data": {
      "text/html": [
       "<div><style>\n",
       ".dataframe > thead > tr,\n",
       ".dataframe > tbody > tr {\n",
       "  text-align: right;\n",
       "  white-space: pre-wrap;\n",
       "}\n",
       "</style>\n",
       "<small>shape: (10, 3)</small><table border=\"1\" class=\"dataframe\"><thead><tr><th>taxon_id</th><th>ancestry</th><th>name</th></tr><tr><td>i32</td><td>str</td><td>str</td></tr></thead><tbody><tr><td>27571</td><td>&quot;48460/1/2/3556…</td><td>&quot;Hydromantes sh…</td></tr><tr><td>28799</td><td>&quot;48460/1/2/3556…</td><td>&quot;Rhadinella pil…</td></tr><tr><td>27928</td><td>&quot;48460/1/2/3556…</td><td>&quot;Caecilia press…</td></tr><tr><td>29137</td><td>&quot;48460/1/2/3556…</td><td>&quot;Pareas nuchali…</td></tr><tr><td>27440</td><td>&quot;48460/1/2/3556…</td><td>&quot;Calamaria java…</td></tr><tr><td>28810</td><td>&quot;48460/1/2/3556…</td><td>&quot;Rhadinaea lach…</td></tr><tr><td>29922</td><td>&quot;48460/1/2/3556…</td><td>&quot;Heteroliodon o…</td></tr><tr><td>22853</td><td>&quot;48460/1/2/3556…</td><td>&quot;Odontophrynus …</td></tr><tr><td>24902</td><td>&quot;48460/1/2/3556…</td><td>&quot;Phrynomantis s…</td></tr><tr><td>24278</td><td>&quot;48460/1/2/3556…</td><td>&quot;Scinax&quot;</td></tr></tbody></table></div>"
      ],
      "text/plain": [
       "shape: (10, 3)\n",
       "┌──────────┬───────────────────────────────────┬─────────────────────────────┐\n",
       "│ taxon_id ┆ ancestry                          ┆ name                        │\n",
       "│ ---      ┆ ---                               ┆ ---                         │\n",
       "│ i32      ┆ str                               ┆ str                         │\n",
       "╞══════════╪═══════════════════════════════════╪═════════════════════════════╡\n",
       "│ 27571    ┆ 48460/1/2/355675/20978/26718/269… ┆ Hydromantes shastae         │\n",
       "│ 28799    ┆ 48460/1/2/355675/26036/26172/855… ┆ Rhadinella pilonaorum       │\n",
       "│ 27928    ┆ 48460/1/2/355675/20978/27880/278… ┆ Caecilia pressula           │\n",
       "│ 29137    ┆ 48460/1/2/355675/26036/26172/855… ┆ Pareas nuchalis             │\n",
       "│ 27440    ┆ 48460/1/2/355675/26036/26172/855… ┆ Calamaria javanica javanica │\n",
       "│ 28810    ┆ 48460/1/2/355675/26036/26172/855… ┆ Rhadinaea lachrymans        │\n",
       "│ 29922    ┆ 48460/1/2/355675/26036/26172/855… ┆ Heteroliodon occipitalis    │\n",
       "│ 22853    ┆ 48460/1/2/355675/20978/20979/476… ┆ Odontophrynus moratoi       │\n",
       "│ 24902    ┆ 48460/1/2/355675/20978/20979/247… ┆ Phrynomantis somalicus      │\n",
       "│ 24278    ┆ 48460/1/2/355675/20978/20979/235… ┆ Scinax                      │\n",
       "└──────────┴───────────────────────────────────┴─────────────────────────────┘"
      ]
     },
     "execution_count": 4,
     "metadata": {},
     "output_type": "execute_result"
    }
   ],
   "source": [
    "taxa = pl.scan_parquet('data/taxa.parquet').head(10)\n",
    "taxa.collect()"
   ]
  },
  {
   "cell_type": "markdown",
   "metadata": {},
   "source": [
    "The `observations.parquet` file contains information about the different observations (`observation_uuid`, coordinate and `taxon_id` of the observed species). This table links pictures to a location, observer and species."
   ]
  },
  {
   "cell_type": "code",
   "execution_count": 5,
   "metadata": {},
   "outputs": [
    {
     "data": {
      "text/html": [
       "<div><style>\n",
       ".dataframe > thead > tr,\n",
       ".dataframe > tbody > tr {\n",
       "  text-align: right;\n",
       "  white-space: pre-wrap;\n",
       "}\n",
       "</style>\n",
       "<small>shape: (10, 4)</small><table border=\"1\" class=\"dataframe\"><thead><tr><th>observation_uuid</th><th>latitude</th><th>longitude</th><th>taxon_id</th></tr><tr><td>str</td><td>f32</td><td>f32</td><td>i32</td></tr></thead><tbody><tr><td>&quot;7ae155fc-f49e-…</td><td>32.189934</td><td>-80.758484</td><td>203485</td></tr><tr><td>&quot;05baefa2-028c-…</td><td>33.430611</td><td>-111.027061</td><td>153887</td></tr><tr><td>&quot;5c63a4aa-9828-…</td><td>33.404743</td><td>-111.937347</td><td>313499</td></tr><tr><td>&quot;e9bfdce3-556c-…</td><td>33.430611</td><td>-111.027061</td><td>790491</td></tr><tr><td>&quot;19ad8eca-938a-…</td><td>32.216316</td><td>-80.752609</td><td>48505</td></tr><tr><td>&quot;21fffac7-0a3f-…</td><td>32.216316</td><td>-80.752609</td><td>67435</td></tr><tr><td>&quot;9274df56-4804-…</td><td>32.216316</td><td>-80.752609</td><td>49150</td></tr><tr><td>&quot;b1616cff-59ea-…</td><td>-17.869122</td><td>146.106339</td><td>67438</td></tr><tr><td>&quot;739687f3-e0e6-…</td><td>33.451317</td><td>-111.950142</td><td>51743</td></tr><tr><td>&quot;b6171ffb-bc8e-…</td><td>33.451317</td><td>-111.950142</td><td>49972</td></tr></tbody></table></div>"
      ],
      "text/plain": [
       "shape: (10, 4)\n",
       "┌───────────────────────────────────┬────────────┬─────────────┬──────────┐\n",
       "│ observation_uuid                  ┆ latitude   ┆ longitude   ┆ taxon_id │\n",
       "│ ---                               ┆ ---        ┆ ---         ┆ ---      │\n",
       "│ str                               ┆ f32        ┆ f32         ┆ i32      │\n",
       "╞═══════════════════════════════════╪════════════╪═════════════╪══════════╡\n",
       "│ 7ae155fc-f49e-4e4f-91c5-51e31e80… ┆ 32.189934  ┆ -80.758484  ┆ 203485   │\n",
       "│ 05baefa2-028c-4c6a-b459-37f7161c… ┆ 33.430611  ┆ -111.027061 ┆ 153887   │\n",
       "│ 5c63a4aa-9828-4f6f-b181-7e71b4af… ┆ 33.404743  ┆ -111.937347 ┆ 313499   │\n",
       "│ e9bfdce3-556c-4506-890b-9e65d241… ┆ 33.430611  ┆ -111.027061 ┆ 790491   │\n",
       "│ 19ad8eca-938a-4031-ba75-edee2749… ┆ 32.216316  ┆ -80.752609  ┆ 48505    │\n",
       "│ 21fffac7-0a3f-4195-90cb-673f12a8… ┆ 32.216316  ┆ -80.752609  ┆ 67435    │\n",
       "│ 9274df56-4804-4a2a-8d63-a8d26462… ┆ 32.216316  ┆ -80.752609  ┆ 49150    │\n",
       "│ b1616cff-59ea-4cee-9461-cba5443d… ┆ -17.869122 ┆ 146.106339  ┆ 67438    │\n",
       "│ 739687f3-e0e6-42d3-bb03-e61a483a… ┆ 33.451317  ┆ -111.950142 ┆ 51743    │\n",
       "│ b6171ffb-bc8e-4af3-a76b-2e03c28d… ┆ 33.451317  ┆ -111.950142 ┆ 49972    │\n",
       "└───────────────────────────────────┴────────────┴─────────────┴──────────┘"
      ]
     },
     "execution_count": 5,
     "metadata": {},
     "output_type": "execute_result"
    }
   ],
   "source": [
    "observations = pl.scan_parquet('data/observations.parquet').head(10)\n",
    "observations.collect()"
   ]
  },
  {
   "cell_type": "markdown",
   "metadata": {},
   "source": [
    "Finally, the `photo.parquet` file contains information about the photos associated with each observation: `photo_uuid`, `photo_id` , `observation_uuid`, and `position` (index of photo for a given observation associated with more than one photo). `photo_id` is the information we want to get from this file, as its allow us to access the associated picture on the AWS S3 bucket."
   ]
  },
  {
   "cell_type": "code",
   "execution_count": 23,
   "metadata": {},
   "outputs": [
    {
     "data": {
      "text/html": [
       "<div><style>\n",
       ".dataframe > thead > tr,\n",
       ".dataframe > tbody > tr {\n",
       "  text-align: right;\n",
       "  white-space: pre-wrap;\n",
       "}\n",
       "</style>\n",
       "<small>shape: (10, 4)</small><table border=\"1\" class=\"dataframe\"><thead><tr><th>photo_uuid</th><th>photo_id</th><th>observation_uuid</th><th>position</th></tr><tr><td>str</td><td>i64</td><td>str</td><td>i64</td></tr></thead><tbody><tr><td>&quot;8d6b2534-d30a-…</td><td>21213</td><td>&quot;7ae155fc-f49e-…</td><td>0</td></tr><tr><td>&quot;6e8112fd-f703-…</td><td>21216</td><td>&quot;7ae155fc-f49e-…</td><td>1</td></tr><tr><td>&quot;49141c2f-48b0-…</td><td>21215</td><td>&quot;05baefa2-028c-…</td><td>0</td></tr><tr><td>&quot;71090faa-9110-…</td><td>21214</td><td>&quot;5c63a4aa-9828-…</td><td>0</td></tr><tr><td>&quot;92c703d0-20f1-…</td><td>21217</td><td>&quot;e9bfdce3-556c-…</td><td>0</td></tr><tr><td>&quot;632f7c05-ce39-…</td><td>21218</td><td>&quot;19ad8eca-938a-…</td><td>0</td></tr><tr><td>&quot;67ad1cde-e43c-…</td><td>21219</td><td>&quot;21fffac7-0a3f-…</td><td>0</td></tr><tr><td>&quot;5433c1c1-0930-…</td><td>21220</td><td>&quot;21fffac7-0a3f-…</td><td>1</td></tr><tr><td>&quot;c30e47a5-ece4-…</td><td>21221</td><td>&quot;9274df56-4804-…</td><td>0</td></tr><tr><td>&quot;f1eb863e-fa25-…</td><td>21222</td><td>&quot;9274df56-4804-…</td><td>1</td></tr></tbody></table></div>"
      ],
      "text/plain": [
       "shape: (10, 4)\n",
       "┌───────────────────────────────────┬──────────┬───────────────────────────────────┬──────────┐\n",
       "│ photo_uuid                        ┆ photo_id ┆ observation_uuid                  ┆ position │\n",
       "│ ---                               ┆ ---      ┆ ---                               ┆ ---      │\n",
       "│ str                               ┆ i64      ┆ str                               ┆ i64      │\n",
       "╞═══════════════════════════════════╪══════════╪═══════════════════════════════════╪══════════╡\n",
       "│ 8d6b2534-d30a-47a8-bc1c-986a2181… ┆ 21213    ┆ 7ae155fc-f49e-4e4f-91c5-51e31e80… ┆ 0        │\n",
       "│ 6e8112fd-f703-4052-94da-b7cfc03f… ┆ 21216    ┆ 7ae155fc-f49e-4e4f-91c5-51e31e80… ┆ 1        │\n",
       "│ 49141c2f-48b0-4671-9cee-fce6efd1… ┆ 21215    ┆ 05baefa2-028c-4c6a-b459-37f7161c… ┆ 0        │\n",
       "│ 71090faa-9110-4df7-bb8f-af2415fe… ┆ 21214    ┆ 5c63a4aa-9828-4f6f-b181-7e71b4af… ┆ 0        │\n",
       "│ 92c703d0-20f1-4da9-af9c-2a6bdb6d… ┆ 21217    ┆ e9bfdce3-556c-4506-890b-9e65d241… ┆ 0        │\n",
       "│ 632f7c05-ce39-4479-9fea-46237e3e… ┆ 21218    ┆ 19ad8eca-938a-4031-ba75-edee2749… ┆ 0        │\n",
       "│ 67ad1cde-e43c-455e-a6b0-0bb0276a… ┆ 21219    ┆ 21fffac7-0a3f-4195-90cb-673f12a8… ┆ 0        │\n",
       "│ 5433c1c1-0930-4cf6-890c-af635b60… ┆ 21220    ┆ 21fffac7-0a3f-4195-90cb-673f12a8… ┆ 1        │\n",
       "│ c30e47a5-ece4-4887-99cb-2d2206bd… ┆ 21221    ┆ 9274df56-4804-4a2a-8d63-a8d26462… ┆ 0        │\n",
       "│ f1eb863e-fa25-4881-b875-f7ae63c2… ┆ 21222    ┆ 9274df56-4804-4a2a-8d63-a8d26462… ┆ 1        │\n",
       "└───────────────────────────────────┴──────────┴───────────────────────────────────┴──────────┘"
      ]
     },
     "execution_count": 23,
     "metadata": {},
     "output_type": "execute_result"
    }
   ],
   "source": [
    "photo = pl.scan_parquet('data/photo.parquet').head(10)\n",
    "photo.collect()"
   ]
  },
  {
   "cell_type": "markdown",
   "metadata": {},
   "source": [
    "# Subset selection"
   ]
  },
  {
   "cell_type": "markdown",
   "metadata": {},
   "source": [
    "Since there are tens of millions of photos in total, we will only use a manageable subset to train our model. \n",
    "\n",
    "First, we will focus on mammal observation. To do so, we select the `taxon_id` and `name` corresponding to mammal from the `taxa` dataset. The number code `ancestry` for mammals contains `848317` (checked by finding the common ancestry for a few known mammals as the meaning of these numbers could not be found)."
   ]
  },
  {
   "cell_type": "code",
   "execution_count": 7,
   "metadata": {},
   "outputs": [],
   "source": [
    "taxa_mammals = (pl.scan_parquet('data/taxa.parquet')\n",
    "                    .filter(pl.col('ancestry').str.contains('848317'))\n",
    "                    .select(pl.col(['taxon_id', 'name']))\n",
    "                    )"
   ]
  },
  {
   "cell_type": "markdown",
   "metadata": {},
   "source": [
    "Then, we select a 'region of interest' from `observations`, between latitude 43 and 77, and between longitude -80 and -70, roughly as south and west as Hamilton, ON and as north and east as Kamouraska, QC."
   ]
  },
  {
   "cell_type": "code",
   "execution_count": 10,
   "metadata": {},
   "outputs": [],
   "source": [
    "lat_min = 43\n",
    "lat_max = 77\n",
    "\n",
    "lon_min = -80\n",
    "lon_max = -70"
   ]
  },
  {
   "cell_type": "code",
   "execution_count": 8,
   "metadata": {},
   "outputs": [],
   "source": [
    "observations_roi = (pl.scan_parquet('data/observations.parquet')\n",
    "                    .filter(\n",
    "                        pl.col('latitude').is_between(lat_min, lat_max),\n",
    "                        pl.col('longitude').is_between(lon_min, lon_max))\n",
    "                    .select(pl.col(['observation_uuid', 'taxon_id']))\n",
    "                    )"
   ]
  },
  {
   "cell_type": "markdown",
   "metadata": {},
   "source": [
    "We then join `taxa` and `observations` on the common key `taxon_id`."
   ]
  },
  {
   "cell_type": "code",
   "execution_count": 10,
   "metadata": {},
   "outputs": [],
   "source": [
    "observations_roi_mammals = (observations_roi.join(taxa_mammals, on='taxon_id')\n",
    "                            .select(pl.exclude('taxon_id'))\n",
    "                            )"
   ]
  },
  {
   "cell_type": "markdown",
   "metadata": {},
   "source": [
    "We end up with `observations_roi_mammals_df` which only contains observation information for mammal observation in our region of interest (the join process takes a long time because the files are large). We save the file for future use."
   ]
  },
  {
   "cell_type": "code",
   "execution_count": 11,
   "metadata": {},
   "outputs": [],
   "source": [
    "observations_roi_mammals_df = observations_roi_mammals.collect()\n",
    "observations_roi_mammals_df.write_parquet('observations_roi_mammals.parquet')"
   ]
  },
  {
   "cell_type": "markdown",
   "metadata": {},
   "source": [
    "We can now join the these observations with the photo table to get what we want: `photo_id` and `name` for our subset of interest (we split the process into two steps because the next one takes a very long time)."
   ]
  },
  {
   "cell_type": "code",
   "execution_count": 4,
   "metadata": {},
   "outputs": [],
   "source": [
    "observations_roi_mammals = pl.scan_parquet('observations_roi_mammals.parquet')\n",
    "photo = pl.scan_parquet('data/photo.parquet')"
   ]
  },
  {
   "cell_type": "code",
   "execution_count": 6,
   "metadata": {},
   "outputs": [],
   "source": [
    "photo_roi_mammals = (photo.join(observations_roi_mammals, on='observation_uuid')\n",
    "                     .select(pl.col(['photo_id', 'name']))\n",
    "                     )"
   ]
  },
  {
   "cell_type": "markdown",
   "metadata": {},
   "source": [
    "Saving the results as a `.parquet` file."
   ]
  },
  {
   "cell_type": "code",
   "execution_count": null,
   "metadata": {},
   "outputs": [],
   "source": [
    "photo_roi_mammals_df = photo_roi_mammals.collect()\n",
    "photo_roi_mammals_df.write_parquet('photo_roi_mammals.parquet')"
   ]
  }
 ],
 "metadata": {
  "kernelspec": {
   "display_name": "Python 3 (ipykernel)",
   "language": "python",
   "name": "python3"
  },
  "language_info": {
   "codemirror_mode": {
    "name": "ipython",
    "version": 3
   },
   "file_extension": ".py",
   "mimetype": "text/x-python",
   "name": "python",
   "nbconvert_exporter": "python",
   "pygments_lexer": "ipython3",
   "version": "3.10.13"
  }
 },
 "nbformat": 4,
 "nbformat_minor": 4
}
